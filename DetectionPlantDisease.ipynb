{
 "cells": [
  {
   "cell_type": "code",
   "execution_count": 10,
   "id": "da6de341",
   "metadata": {
    "id": "da6de341"
   },
   "outputs": [],
   "source": [
    "import warnings\n",
    "warnings.filterwarnings('ignore')\n",
    "\n",
    "import os\n",
    "import pandas as pd\n",
    "import numpy as np\n",
    "import matplotlib.pyplot as plt\n",
    "%matplotlib inline\n",
    "import seaborn as sns\n",
    "from sklearn.metrics import classification_report , confusion_matrix , accuracy_score , auc\n",
    "from sklearn.model_selection import train_test_split\n",
    "\n",
    "import cv2\n",
    "#from google.colab.patches import cv2_imshow\n",
    "from PIL import Image\n",
    "import tensorflow as tf\n",
    "from tensorflow import keras\n",
    "from keras import Sequential\n",
    "from keras.layers import Input, Dense,Conv2D , MaxPooling2D, Flatten,BatchNormalization,Dropout\n",
    "from tensorflow.keras.preprocessing import image_dataset_from_directory\n",
    "import tensorflow_hub as hub\n",
    "from tensorflow.keras.preprocessing import image\n",
    "from keras.applications import MobileNetV2\n",
    "from keras.applications.vgg19 import VGG19\n",
    "from keras.preprocessing.image import ImageDataGenerator\n",
    "from keras.layers import GlobalAveragePooling2D"
   ]
  },
  {
   "cell_type": "code",
   "execution_count": 12,
   "id": "ae179cc8",
   "metadata": {
    "id": "ae179cc8"
   },
   "outputs": [],
   "source": [
    "train_path = r\"D:/dataset/NewPlantDiseasesDataset/train\"\n",
    "valid_path = r\"D:/dataset/NewPlantDiseasesDataset/valid\""
   ]
  },
  {
   "cell_type": "code",
   "execution_count": 13,
   "id": "be0e744c",
   "metadata": {
    "colab": {
     "base_uri": "https://localhost:8080/"
    },
    "id": "be0e744c",
    "outputId": "934fa422-68c3-4a2c-a64e-a21df4bff623"
   },
   "outputs": [
    {
     "name": "stdout",
     "output_type": "stream",
     "text": [
      "Found 70295 files belonging to 38 classes.\n"
     ]
    }
   ],
   "source": [
    "train_data = tf.keras.preprocessing.image_dataset_from_directory(\n",
    " train_path,\n",
    "    batch_size=256,\n",
    "  image_size=(224,224), shuffle=True\n",
    ")"
   ]
  },
  {
   "cell_type": "code",
   "execution_count": 14,
   "id": "39a348df",
   "metadata": {
    "colab": {
     "base_uri": "https://localhost:8080/"
    },
    "id": "39a348df",
    "outputId": "1d0ad659-ea44-4175-9445-1c019bd626bc"
   },
   "outputs": [
    {
     "name": "stdout",
     "output_type": "stream",
     "text": [
      "Found 17572 files belonging to 38 classes.\n"
     ]
    }
   ],
   "source": [
    "valid_data = tf.keras.preprocessing.image_dataset_from_directory(\n",
    " valid_path,\n",
    "    batch_size=256,\n",
    "  image_size=(224,224), shuffle=True\n",
    ")"
   ]
  },
  {
   "cell_type": "code",
   "execution_count": null,
   "id": "fb33dc94",
   "metadata": {
    "colab": {
     "base_uri": "https://localhost:8080/"
    },
    "id": "fb33dc94",
    "outputId": "bc945044-8915-4ba7-9277-bc57fab08818"
   },
   "outputs": [],
   "source": [
    "# path = \"/content/drive/MyDrive/data/test\"\n",
    "# test_folder = os.listdir(path)\n",
    "# test_folder[:5]"
   ]
  },
  {
   "cell_type": "code",
   "execution_count": 15,
   "id": "ed925503",
   "metadata": {
    "colab": {
     "base_uri": "https://localhost:8080/"
    },
    "id": "ed925503",
    "outputId": "7d5c04e7-9f35-425a-b768-21378b209f28"
   },
   "outputs": [
    {
     "data": {
      "text/plain": [
       "38"
      ]
     },
     "execution_count": 15,
     "metadata": {},
     "output_type": "execute_result"
    }
   ],
   "source": [
    "len(train_data.class_names)"
   ]
  },
  {
   "cell_type": "code",
   "execution_count": 16,
   "id": "a3b72917",
   "metadata": {
    "colab": {
     "base_uri": "https://localhost:8080/"
    },
    "id": "a3b72917",
    "outputId": "71dcb2fa-03a9-4eb4-cfa6-08c3ac5ce4e5"
   },
   "outputs": [
    {
     "data": {
      "text/plain": [
       "['Apple___Apple_scab',\n",
       " 'Apple___Black_rot',\n",
       " 'Apple___Cedar_apple_rust',\n",
       " 'Apple___healthy',\n",
       " 'Blueberry___healthy',\n",
       " 'Cherry_(including_sour)___Powdery_mildew',\n",
       " 'Cherry_(including_sour)___healthy',\n",
       " 'Corn_(maize)___Cercospora_leaf_spot Gray_leaf_spot',\n",
       " 'Corn_(maize)___Common_rust_',\n",
       " 'Corn_(maize)___Northern_Leaf_Blight',\n",
       " 'Corn_(maize)___healthy',\n",
       " 'Grape___Black_rot',\n",
       " 'Grape___Esca_(Black_Measles)',\n",
       " 'Grape___Leaf_blight_(Isariopsis_Leaf_Spot)',\n",
       " 'Grape___healthy',\n",
       " 'Orange___Haunglongbing_(Citrus_greening)',\n",
       " 'Peach___Bacterial_spot',\n",
       " 'Peach___healthy',\n",
       " 'Pepper,_bell___Bacterial_spot',\n",
       " 'Pepper,_bell___healthy',\n",
       " 'Potato___Early_blight',\n",
       " 'Potato___Late_blight',\n",
       " 'Potato___healthy',\n",
       " 'Raspberry___healthy',\n",
       " 'Soybean___healthy',\n",
       " 'Squash___Powdery_mildew',\n",
       " 'Strawberry___Leaf_scorch',\n",
       " 'Strawberry___healthy',\n",
       " 'Tomato___Bacterial_spot',\n",
       " 'Tomato___Early_blight',\n",
       " 'Tomato___Late_blight',\n",
       " 'Tomato___Leaf_Mold',\n",
       " 'Tomato___Septoria_leaf_spot',\n",
       " 'Tomato___Spider_mites Two-spotted_spider_mite',\n",
       " 'Tomato___Target_Spot',\n",
       " 'Tomato___Tomato_Yellow_Leaf_Curl_Virus',\n",
       " 'Tomato___Tomato_mosaic_virus',\n",
       " 'Tomato___healthy']"
      ]
     },
     "execution_count": 16,
     "metadata": {},
     "output_type": "execute_result"
    }
   ],
   "source": [
    "class_labels = train_data.class_names\n",
    "class_labels"
   ]
  },
  {
   "cell_type": "code",
   "execution_count": 17,
   "id": "f208ba46",
   "metadata": {
    "colab": {
     "base_uri": "https://localhost:8080/"
    },
    "id": "f208ba46",
    "outputId": "6bd00c55-0a40-4121-efe6-4459ba97319e"
   },
   "outputs": [
    {
     "name": "stdout",
     "output_type": "stream",
     "text": [
      "Found 70295 images belonging to 38 classes.\n",
      "Found 17572 images belonging to 38 classes.\n"
     ]
    }
   ],
   "source": [
    "datagen = ImageDataGenerator(rescale=1.0/255.0)\n",
    "\n",
    "# Use the 'datagen' to preprocess the images loaded by 'image_data_from_directory'\n",
    "train_scaled_data = datagen.flow_from_directory(\n",
    "   train_path,\n",
    "    target_size=(224, 224),\n",
    "    batch_size=256,shuffle=True,\n",
    "    class_mode='sparse'\n",
    ")\n",
    "\n",
    "valid_scaled_data = datagen.flow_from_directory(\n",
    "    valid_path,\n",
    "    target_size=(224, 224),\n",
    "    batch_size=256,shuffle=True,\n",
    "    class_mode='sparse'\n",
    ")"
   ]
  },
  {
   "cell_type": "code",
   "execution_count": 18,
   "id": "f8b2cf8c",
   "metadata": {
    "colab": {
     "base_uri": "https://localhost:8080/"
    },
    "id": "f8b2cf8c",
    "outputId": "7db3dcd3-0522-4fa1-daba-afd5937ea64f"
   },
   "outputs": [
    {
     "data": {
      "text/plain": [
       "{'Apple___Apple_scab': 0,\n",
       " 'Apple___Black_rot': 1,\n",
       " 'Apple___Cedar_apple_rust': 2,\n",
       " 'Apple___healthy': 3,\n",
       " 'Blueberry___healthy': 4,\n",
       " 'Cherry_(including_sour)___Powdery_mildew': 5,\n",
       " 'Cherry_(including_sour)___healthy': 6,\n",
       " 'Corn_(maize)___Cercospora_leaf_spot Gray_leaf_spot': 7,\n",
       " 'Corn_(maize)___Common_rust_': 8,\n",
       " 'Corn_(maize)___Northern_Leaf_Blight': 9,\n",
       " 'Corn_(maize)___healthy': 10,\n",
       " 'Grape___Black_rot': 11,\n",
       " 'Grape___Esca_(Black_Measles)': 12,\n",
       " 'Grape___Leaf_blight_(Isariopsis_Leaf_Spot)': 13,\n",
       " 'Grape___healthy': 14,\n",
       " 'Orange___Haunglongbing_(Citrus_greening)': 15,\n",
       " 'Peach___Bacterial_spot': 16,\n",
       " 'Peach___healthy': 17,\n",
       " 'Pepper,_bell___Bacterial_spot': 18,\n",
       " 'Pepper,_bell___healthy': 19,\n",
       " 'Potato___Early_blight': 20,\n",
       " 'Potato___Late_blight': 21,\n",
       " 'Potato___healthy': 22,\n",
       " 'Raspberry___healthy': 23,\n",
       " 'Soybean___healthy': 24,\n",
       " 'Squash___Powdery_mildew': 25,\n",
       " 'Strawberry___Leaf_scorch': 26,\n",
       " 'Strawberry___healthy': 27,\n",
       " 'Tomato___Bacterial_spot': 28,\n",
       " 'Tomato___Early_blight': 29,\n",
       " 'Tomato___Late_blight': 30,\n",
       " 'Tomato___Leaf_Mold': 31,\n",
       " 'Tomato___Septoria_leaf_spot': 32,\n",
       " 'Tomato___Spider_mites Two-spotted_spider_mite': 33,\n",
       " 'Tomato___Target_Spot': 34,\n",
       " 'Tomato___Tomato_Yellow_Leaf_Curl_Virus': 35,\n",
       " 'Tomato___Tomato_mosaic_virus': 36,\n",
       " 'Tomato___healthy': 37}"
      ]
     },
     "execution_count": 18,
     "metadata": {},
     "output_type": "execute_result"
    }
   ],
   "source": [
    "train_scaled_data.class_indices"
   ]
  },
  {
   "cell_type": "code",
   "execution_count": null,
   "id": "5f2813b7",
   "metadata": {
    "id": "5f2813b7"
   },
   "outputs": [],
   "source": [
    "# for img, label in train_scaled_data:\n",
    "#     #print(img)\n",
    "#     print(label)\n",
    "#     break"
   ]
  },
  {
   "cell_type": "code",
   "execution_count": null,
   "id": "627d9cc6",
   "metadata": {
    "id": "627d9cc6"
   },
   "outputs": [],
   "source": [
    "# label[10]"
   ]
  },
  {
   "cell_type": "code",
   "execution_count": null,
   "id": "e282330d",
   "metadata": {
    "id": "e282330d"
   },
   "outputs": [],
   "source": [
    "# len(class_labels)"
   ]
  },
  {
   "cell_type": "code",
   "execution_count": 19,
   "id": "40833849",
   "metadata": {
    "colab": {
     "base_uri": "https://localhost:8080/"
    },
    "id": "40833849",
    "outputId": "437c9d1b-e529-48ba-ac69-881deed04823"
   },
   "outputs": [
    {
     "name": "stdout",
     "output_type": "stream",
     "text": [
      "WARNING:tensorflow:From C:\\Users\\Harshal\\anaconda3\\Lib\\site-packages\\keras\\src\\backend.py:1398: The name tf.executing_eagerly_outside_functions is deprecated. Please use tf.compat.v1.executing_eagerly_outside_functions instead.\n",
      "\n",
      "WARNING:tensorflow:From C:\\Users\\Harshal\\anaconda3\\Lib\\site-packages\\keras\\src\\layers\\normalization\\batch_normalization.py:979: The name tf.nn.fused_batch_norm is deprecated. Please use tf.compat.v1.nn.fused_batch_norm instead.\n",
      "\n",
      "Downloading data from https://storage.googleapis.com/tensorflow/keras-applications/mobilenet_v2/mobilenet_v2_weights_tf_dim_ordering_tf_kernels_1.0_224_no_top.h5\n",
      "9406464/9406464 [==============================] - 4s 0us/step\n",
      "Model: \"sequential\"\n",
      "_________________________________________________________________\n",
      " Layer (type)                Output Shape              Param #   \n",
      "=================================================================\n",
      " mobilenetv2_1.00_224 (Func  (None, 7, 7, 1280)        2257984   \n",
      " tional)                                                         \n",
      "                                                                 \n",
      " global_average_pooling2d (  (None, 1280)              0         \n",
      " GlobalAveragePooling2D)                                         \n",
      "                                                                 \n",
      " dense (Dense)               (None, 100)               128100    \n",
      "                                                                 \n",
      " dense_1 (Dense)             (None, 100)               10100     \n",
      "                                                                 \n",
      " dense_2 (Dense)             (None, 38)                3838      \n",
      "                                                                 \n",
      "=================================================================\n",
      "Total params: 2400022 (9.16 MB)\n",
      "Trainable params: 142038 (554.84 KB)\n",
      "Non-trainable params: 2257984 (8.61 MB)\n",
      "_________________________________________________________________\n"
     ]
    }
   ],
   "source": [
    "base_model = MobileNetV2(input_shape=(224,224,3),\n",
    "                         include_top=False, weights='imagenet')\n",
    "\n",
    "# Freeze the pre-trained layers\n",
    "for layer in base_model.layers:\n",
    "    layer.trainable = False\n",
    "\n",
    "# Create a Sequential model\n",
    "model = Sequential()\n",
    "\n",
    "model.add(base_model)\n",
    "model.add(GlobalAveragePooling2D())\n",
    "model.add(Dense(100, activation='relu'))  # Add a dense layer with 1024 units\n",
    "model.add(Dense(100, activation='relu'))   # Add another dense layer with 512 units\n",
    "model.add(Dense(len(class_labels), activation='softmax'))\n",
    "\n",
    "model.compile(optimizer='adam',loss='sparse_categorical_crossentropy',\n",
    "             metrics=['accuracy'])\n",
    "\n",
    "model.summary()"
   ]
  },
  {
   "cell_type": "code",
   "execution_count": 20,
   "id": "811e19c7",
   "metadata": {
    "colab": {
     "base_uri": "https://localhost:8080/"
    },
    "id": "811e19c7",
    "outputId": "0268ec80-2bcb-49b4-f693-fd24007152d7"
   },
   "outputs": [
    {
     "name": "stdout",
     "output_type": "stream",
     "text": [
      "Epoch 1/10\n",
      "WARNING:tensorflow:From C:\\Users\\Harshal\\anaconda3\\Lib\\site-packages\\keras\\src\\utils\\tf_utils.py:492: The name tf.ragged.RaggedTensorValue is deprecated. Please use tf.compat.v1.ragged.RaggedTensorValue instead.\n",
      "\n",
      "275/275 [==============================] - 2479s 9s/step - loss: 0.6357 - accuracy: 0.8279 - val_loss: 0.2492 - val_accuracy: 0.9235\n",
      "Epoch 2/10\n",
      "275/275 [==============================] - 1827s 7s/step - loss: 0.1898 - accuracy: 0.9388 - val_loss: 0.1771 - val_accuracy: 0.9423\n",
      "Epoch 3/10\n",
      "275/275 [==============================] - 1607s 6s/step - loss: 0.1378 - accuracy: 0.9562 - val_loss: 0.1571 - val_accuracy: 0.9476\n",
      "Epoch 4/10\n",
      "275/275 [==============================] - 1599s 6s/step - loss: 0.1082 - accuracy: 0.9643 - val_loss: 0.1424 - val_accuracy: 0.9526\n",
      "Epoch 5/10\n",
      "275/275 [==============================] - 1527s 6s/step - loss: 0.0882 - accuracy: 0.9710 - val_loss: 0.1272 - val_accuracy: 0.9574\n",
      "Epoch 6/10\n",
      "275/275 [==============================] - 1607s 6s/step - loss: 0.0738 - accuracy: 0.9754 - val_loss: 0.1393 - val_accuracy: 0.9536\n",
      "Epoch 7/10\n",
      "275/275 [==============================] - 1600s 6s/step - loss: 0.0635 - accuracy: 0.9795 - val_loss: 0.1149 - val_accuracy: 0.9625\n",
      "Epoch 8/10\n",
      "275/275 [==============================] - 1539s 6s/step - loss: 0.0576 - accuracy: 0.9815 - val_loss: 0.1118 - val_accuracy: 0.9646\n",
      "Epoch 9/10\n",
      "275/275 [==============================] - 1648s 6s/step - loss: 0.0471 - accuracy: 0.9850 - val_loss: 0.1220 - val_accuracy: 0.9614\n",
      "Epoch 10/10\n",
      "275/275 [==============================] - 1612s 6s/step - loss: 0.0384 - accuracy: 0.9883 - val_loss: 0.1196 - val_accuracy: 0.9623\n"
     ]
    }
   ],
   "source": [
    " history = model.fit(train_scaled_data ,batch_size=256,epochs=10,\n",
    "                verbose=1,\n",
    "                validation_data=valid_scaled_data)"
   ]
  },
  {
   "cell_type": "code",
   "execution_count": 21,
   "id": "j7wKnk2uJWvV",
   "metadata": {
    "id": "j7wKnk2uJWvV"
   },
   "outputs": [],
   "source": [
    "model.save(\"check_disease_model.h5\")"
   ]
  },
  {
   "cell_type": "code",
   "execution_count": 23,
   "id": "TBLcegIKJ28G",
   "metadata": {
    "id": "TBLcegIKJ28G"
   },
   "outputs": [
    {
     "name": "stdout",
     "output_type": "stream",
     "text": [
      "275/275 [==============================] - 1660s 6s/step - loss: 0.0324 - accuracy: 0.9905\n",
      "Loss on Train data: 0.03236379474401474\n",
      "Accuracy on Train data: 0.9905398488044739\n",
      "69/69 [==============================] - 358s 5s/step - loss: 0.1196 - accuracy: 0.9623\n",
      "Loss on Test data: 0.11956263333559036\n",
      "Accuracy on Test data: 0.9622695446014404\n"
     ]
    }
   ],
   "source": [
    "loss,acc = model.evaluate(train_scaled_data)\n",
    "print(\"Loss on Train data:\",loss)\n",
    "print(\"Accuracy on Train data:\",acc)\n",
    "\n",
    "loss1,acc1 = model.evaluate(valid_scaled_data)\n",
    "\n",
    "print(\"Loss on Test data:\",loss1)\n",
    "print(\"Accuracy on Test data:\",acc1)"
   ]
  },
  {
   "cell_type": "code",
   "execution_count": 24,
   "id": "LiH-V3wxKDCT",
   "metadata": {
    "id": "LiH-V3wxKDCT"
   },
   "outputs": [],
   "source": [
    "acc = history.history[\"accuracy\"]\n",
    "val_acc = history.history[\"val_accuracy\"]\n",
    "\n",
    "loss = history.history[\"loss\"]\n",
    "val_loss = history.history[\"val_loss\"]\n",
    "# print(acc)\n",
    "# print(val_acc)\n",
    "# print(loss)\n",
    "# print(val_loss)"
   ]
  },
  {
   "cell_type": "code",
   "execution_count": 25,
   "id": "0kmVdEExKcVJ",
   "metadata": {
    "id": "0kmVdEExKcVJ"
   },
   "outputs": [
    {
     "data": {
      "image/png": "[encoded data removed]",
      "text/plain": [
       "<Figure size 1000x500 with 2 Axes>"
      ]
     },
     "metadata": {},
     "output_type": "display_data"
    }
   ],
   "source": [
    "EPOCHS=10\n",
    "plt.figure(figsize=(10,5))\n",
    "plt.subplot(1,2,1)\n",
    "plt.plot(range(EPOCHS),acc, label=\"Training Accuracy\")\n",
    "plt.plot(range(EPOCHS),val_acc, label=\"Validation Accuracy\")\n",
    "plt.legend(loc=\"lower right\")\n",
    "plt.title(\"Training and Validation Accuracy\")\n",
    "\n",
    "#plt.figure(figsize=(6,6))\n",
    "plt.subplot(1,2,2)\n",
    "plt.plot(range(EPOCHS),loss, label=\"Training Loss\")\n",
    "plt.plot(range(EPOCHS),val_loss, label=\"Validation Loss\")\n",
    "plt.legend(loc=\"lower right\")\n",
    "plt.title(\"Training and Validation Loss\")\n",
    "plt.show()"
   ]
  },
  {
   "cell_type": "code",
   "execution_count": 31,
   "id": "bxuDyUNyTJDo",
   "metadata": {
    "id": "bxuDyUNyTJDo"
   },
   "outputs": [],
   "source": [
    "# prediction function\n",
    "\n",
    "def predict_Disease(img_path):\n",
    "    img = image.load_img(img_path, target_size=(224, 224))\n",
    "    img_array = image.img_to_array(img)\n",
    "    img_array = np.expand_dims(img_array, axis=0)\n",
    "    img_array = img_array/255\n",
    "    y_pred = model.predict(img_array)\n",
    "    np.argmax(y_pred[0])\n",
    "    disease_detected=class_labels[np.argmax(y_pred[0])]\n",
    "    return disease_detected\n",
    "\n",
    "def predict(img_path):\n",
    "    img = image.load_img(img_path, target_size=(224, 224))\n",
    "    img_array = image.img_to_array(img)\n",
    "    img_array = np.expand_dims(img_array, axis=0)\n",
    "    img_array = img_array/255\n",
    "    y_pred = model.predict(img_array)\n",
    "    return np.argmax(y_pred[0])\n",
    "    "
   ]
  },
  {
   "cell_type": "code",
   "execution_count": 32,
   "id": "OZsogX7BLi5n",
   "metadata": {
    "id": "OZsogX7BLi5n"
   },
   "outputs": [
    {
     "name": "stdout",
     "output_type": "stream",
     "text": [
      "1/1 [==============================] - 0s 60ms/step\n",
      "Apple___Cedar_apple_rust\n",
      "1/1 [==============================] - 0s 61ms/step\n",
      "2\n"
     ]
    }
   ],
   "source": [
    "img_path=\"D:/dataset/test/test/AppleCedarRust2.JPG\"\n",
    "print(predict_Disease(img_path))\n",
    "print(predict(img_path))"
   ]
  },
  {
   "cell_type": "code",
   "execution_count": 30,
   "id": "WBZHTMShLnCs",
   "metadata": {
    "id": "WBZHTMShLnCs"
   },
   "outputs": [
    {
     "name": "stdout",
     "output_type": "stream",
     "text": [
      "1/1 [==============================] - 0s 69ms/step\n",
      "Tomato___Tomato_Yellow_Leaf_Curl_Virus\n"
     ]
    }
   ],
   "source": [
    "img_path=\"D:/dataset/test/test/TomatoYellowCurlVirus4.JPG\"\n",
    "print(predict_Disease(img_path))"
   ]
  },
  {
   "cell_type": "code",
   "execution_count": null,
   "id": "bZ9EkFf8LrTT",
   "metadata": {
    "id": "bZ9EkFf8LrTT"
   },
   "outputs": [],
   "source": [
    "# class_labels[np.argmax(y_pred[0])]\n",
    "img_path = \"/content/drive/MyDrive/data/test/PotatoEarlyBlight5.JPG\"\n",
    "print(predict_Disease(img_path))"
   ]
  },
  {
   "cell_type": "code",
   "execution_count": null,
   "id": "y4rt1Z6ZLupz",
   "metadata": {
    "id": "y4rt1Z6ZLupz"
   },
   "outputs": [],
   "source": [
    "img_path=\"/content/drive/MyDrive/data/New Plant Diseases Dataset(Augmented)/valid/Orange___Haunglongbing_(Citrus_greening)/3295f215-6022-49bc-9bfe-910ee5d0f554___CREC_HLB 4307.JPG\"\n",
    "print(predict_Disease(img_path))"
   ]
  },
  {
   "cell_type": "code",
   "execution_count": null,
   "id": "gqY3UhxjcvFp",
   "metadata": {
    "id": "gqY3UhxjcvFp"
   },
   "outputs": [],
   "source": [
    "img_path=\"/content/drive/MyDrive/data/test/AppleScab2.JPG\"\n",
    "print(predict_Disease(img_path))"
   ]
  },
  {
   "cell_type": "code",
   "execution_count": null,
   "id": "tsqxve4kcu6p",
   "metadata": {
    "id": "tsqxve4kcu6p"
   },
   "outputs": [],
   "source": [
    "img_path=\"/content/drive/MyDrive/data/test/PotatoEarlyBlight3 (1).JPG\"\n",
    "print(predict_Disease(img_path))"
   ]
  },
  {
   "cell_type": "code",
   "execution_count": null,
   "id": "Lw5-TQSPcuin",
   "metadata": {
    "id": "Lw5-TQSPcuin"
   },
   "outputs": [],
   "source": []
  }
 ],
 "metadata": {
  "accelerator": "GPU",
  "colab": {
   "gpuType": "T4",
   "provenance": []
  },
  "kernelspec": {
   "display_name": "Python 3 (ipykernel)",
   "language": "python",
   "name": "python3"
  },
  "language_info": {
   "codemirror_mode": {
    "name": "ipython",
    "version": 3
   },
   "file_extension": ".py",
   "mimetype": "text/x-python",
   "name": "python",
   "nbconvert_exporter": "python",
   "pygments_lexer": "ipython3",
   "version": "3.11.5"
  }
 },
 "nbformat": 4,
 "nbformat_minor": 5
}
